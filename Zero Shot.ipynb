{
 "cells": [
  {
   "cell_type": "code",
   "execution_count": 1,
   "metadata": {},
   "outputs": [],
   "source": [
    "import torch\n",
    "import torchvision\n",
    "from torch.utils.data import Dataset, DataLoader\n",
    "from torchvision import models, transforms\n",
    "import matplotlib.pyplot as plt\n",
    "import seaborn as sns\n",
    "\n",
    "sns.set()\n",
    "import torch.nn as nn\n",
    "import sys\n",
    "import os\n",
    "import numpy as np\n",
    "from glob import glob\n",
    "from PIL import Image\n",
    "import matplotlib.pyplot as plt\n",
    "from IPython.display import HTML, display"
   ]
  },
  {
   "cell_type": "code",
   "execution_count": 2,
   "metadata": {},
   "outputs": [],
   "source": [
    "device = torch.device(\"cuda:0\" if torch.cuda.is_available() else \"cpu\")\n",
    "# device = 'cpu'"
   ]
  },
  {
   "cell_type": "code",
   "execution_count": 3,
   "metadata": {},
   "outputs": [],
   "source": [
    "class AWA2(Dataset):\n",
    "    def __init__(\n",
    "        self,\n",
    "        classes_file,\n",
    "        transform=None,\n",
    "        path_prefix=\"data\",\n",
    "        predicate_binary_mask=True,\n",
    "    ):\n",
    "        self.transform = transform\n",
    "\n",
    "        if predicate_binary_mask:\n",
    "            self.predicates_mat = np.genfromtxt(\n",
    "                os.path.join(path_prefix, \"predicate-matrix-binary.txt\"), dtype=\"float\"\n",
    "            )\n",
    "        else:\n",
    "            self.predicates_mat = np.genfromtxt(\n",
    "                os.path.join(path_prefix, \"predicate-matrix-continuous.txt\"),\n",
    "                dtype=\"float\",\n",
    "            )\n",
    "\n",
    "        self.classes_dict = {}\n",
    "        classes_array = np.genfromtxt(\n",
    "            os.path.join(path_prefix, \"classes.txt\"), dtype=\"str\"\n",
    "        )\n",
    "        for row in classes_array:\n",
    "            self.classes_dict[row[1]] = int(row[0]) - 1\n",
    "        image_names = []\n",
    "        image_class_index = []\n",
    "\n",
    "        self.classes = []\n",
    "        with open(os.path.join(path_prefix, classes_file)) as f:\n",
    "            for line in f:\n",
    "                class_name = line.strip()\n",
    "                self.classes.append(class_name)\n",
    "                images = glob(\n",
    "                    os.path.join(path_prefix, \"JPEGImages\", class_name, \"*.jpg\")\n",
    "                )\n",
    "\n",
    "                class_index = self.classes_dict[class_name]\n",
    "                for image in images:\n",
    "                    image_names.append(image)\n",
    "                    image_class_index.append(class_index)\n",
    "\n",
    "        self.image_names = image_names\n",
    "        self.image_class_index = image_class_index\n",
    "        self.len = len(self.image_names)\n",
    "\n",
    "    def __len__(self):\n",
    "        return self.len\n",
    "\n",
    "    def __getitem__(self, index):\n",
    "        image = Image.open(self.image_names[index])\n",
    "        #         print(image.shape)\n",
    "        if image.getbands()[0] == \"L\":\n",
    "            image = image.convert(\"RGB\")\n",
    "        #         if image.shape != (3,224,224):\n",
    "        #             print(self.image_class_index[index])\n",
    "        if self.transform:\n",
    "            image = self.transform(image)\n",
    "        class_index = self.image_class_index[index]\n",
    "        image_predicate = self.predicates_mat[class_index, :]\n",
    "        return image, class_index, self.image_names[index], image_predicate\n",
    "\n",
    "    def display_sample(self, n=1):\n",
    "        for i in range(n):\n",
    "            plt.imshow(self.__getitem__(i)[0])"
   ]
  },
  {
   "cell_type": "code",
   "execution_count": 4,
   "metadata": {},
   "outputs": [],
   "source": [
    "train_transformers = transforms.Compose(\n",
    "    [\n",
    "        transforms.RandomRotation(15),\n",
    "        transforms.RandomHorizontalFlip(),\n",
    "        transforms.ColorJitter(brightness=0.3, contrast=0.3),\n",
    "        transforms.Resize((224, 224)),  # ImageNet standard\n",
    "        transforms.ToTensor(),\n",
    "    ]\n",
    ")\n",
    "\n",
    "test_transformers = transforms.Compose(\n",
    "    [transforms.Resize((224, 224)), transforms.ToTensor()]\n",
    ")"
   ]
  },
  {
   "cell_type": "code",
   "execution_count": 5,
   "metadata": {},
   "outputs": [
    {
     "data": {
      "text/plain": [
       "(40, 10)"
      ]
     },
     "execution_count": 5,
     "metadata": {},
     "output_type": "execute_result"
    }
   ],
   "source": [
    "test_dataset = AWA2(\n",
    "    classes_file=\"testclasses.txt\", path_prefix=\"data1\", transform=train_transformers\n",
    ")\n",
    "train_dataset = AWA2(\n",
    "    classes_file=\"trainclasses.txt\", path_prefix=\"data1\", transform=test_transformers\n",
    ")\n",
    "len(train_dataset.classes), len(test_dataset.classes)"
   ]
  },
  {
   "cell_type": "code",
   "execution_count": 6,
   "metadata": {},
   "outputs": [],
   "source": [
    "train_params = {\"batch_size\": 24, \"shuffle\": True, \"num_workers\": 0}\n",
    "test_params = {\"batch_size\": 1, \"shuffle\": True, \"num_workers\": 0}\n",
    "train_loader = DataLoader(train_dataset, **train_params)\n",
    "test_loader = DataLoader(test_dataset, **test_params)"
   ]
  },
  {
   "cell_type": "code",
   "execution_count": 7,
   "metadata": {},
   "outputs": [
    {
     "data": {
      "text/plain": [
       "((50, 85), 50, 50, 40)"
      ]
     },
     "execution_count": 7,
     "metadata": {},
     "output_type": "execute_result"
    }
   ],
   "source": [
    "def predicates_ground_truth(\n",
    "    path_prefix=\"data\", predicate_binary_mask=True, train_classes=\"trainclasses.txt\"\n",
    "):\n",
    "    predicates_mat = None\n",
    "    if predicate_binary_mask:\n",
    "        predicates_mat = np.genfromtxt(\n",
    "            os.path.join(path_prefix, \"predicate-matrix-binary.txt\"), dtype=\"float\"\n",
    "        )\n",
    "    else:\n",
    "        predicates_mat = np.genfromtxt(\n",
    "            os.path.join(path_prefix, \"predicate-matrix-continuous.txt\"), dtype=\"float\",\n",
    "        )\n",
    "    classes_array = np.genfromtxt(\n",
    "        os.path.join(path_prefix, \"classes.txt\"), dtype=\"str\"\n",
    "    )[:, -1]\n",
    "    train_classes = np.genfromtxt(os.path.join(path_prefix, train_classes), dtype=\"str\")\n",
    "    return predicates_mat, len(predicates_mat), classes_array, train_classes\n",
    "\n",
    "\n",
    "predicates, num_predicates, classes, train_classes = predicates_ground_truth(\n",
    "    path_prefix=\"data1\"\n",
    ")\n",
    "predicates.shape, num_predicates, len(classes), len(train_classes)"
   ]
  },
  {
   "cell_type": "code",
   "execution_count": 8,
   "metadata": {},
   "outputs": [],
   "source": [
    "def build_model(is_pretrained=True, resnet=\"resnet34\", num_predicates=85):\n",
    "    model = None\n",
    "    if resnet == \"resnet18\":\n",
    "        model = torchvision.models.resnet18(pretrained=is_pretrained)\n",
    "    elif resnet == \"resnet50\":\n",
    "        model = torchvision.models.resnet50(pretrained=is_pretrained)\n",
    "    else:\n",
    "        model = torchvision.models.resnet34(pretrained=is_pretrained)\n",
    "    if is_pretrained:\n",
    "        for param in model.parameters():\n",
    "            param.requires_grad = False\n",
    "    num_features = model.fc.in_features\n",
    "    model.fc = nn.Sequential(\n",
    "        nn.BatchNorm1d(num_features),\n",
    "        nn.ReLU(),\n",
    "        nn.Dropout(0.25),\n",
    "        nn.Linear(num_features, num_predicates),\n",
    "    )\n",
    "    return model"
   ]
  },
  {
   "cell_type": "code",
   "execution_count": 9,
   "metadata": {},
   "outputs": [
    {
     "data": {
      "text/plain": [
       "(Sequential(\n",
       "   (0): BatchNorm1d(512, eps=1e-05, momentum=0.1, affine=True, track_running_stats=True)\n",
       "   (1): ReLU()\n",
       "   (2): Dropout(p=0.25, inplace=False)\n",
       "   (3): Linear(in_features=512, out_features=85, bias=True)\n",
       " ),\n",
       " True)"
      ]
     },
     "execution_count": 9,
     "metadata": {},
     "output_type": "execute_result"
    }
   ],
   "source": [
    "model = build_model().to(device)\n",
    "model.fc, next(model.parameters()).is_cuda"
   ]
  },
  {
   "cell_type": "code",
   "execution_count": 10,
   "metadata": {},
   "outputs": [],
   "source": [
    "# COPIED CONTENT\n",
    "def cos_loss(input, target):\n",
    "    return 1 - F.cosine_similarity(input, target).mean()\n",
    "\n",
    "\n",
    "class AverageBase(object):\n",
    "    def __init__(self, value=0):\n",
    "        self.value = float(value) if value is not None else None\n",
    "\n",
    "    def __str__(self):\n",
    "        return str(round(self.value, 4))\n",
    "\n",
    "    def __repr__(self):\n",
    "        return self.value\n",
    "\n",
    "    def __format__(self, fmt):\n",
    "        return self.value.__format__(fmt)\n",
    "\n",
    "    def __float__(self):\n",
    "        return self.value\n",
    "\n",
    "\n",
    "class RunningAverage(AverageBase):\n",
    "    \"\"\"\n",
    "    Keeps track of a cumulative moving average (CMA).\n",
    "    \"\"\"\n",
    "\n",
    "    def __init__(self, value=0, count=0):\n",
    "        super(RunningAverage, self).__init__(value)\n",
    "        self.count = count\n",
    "\n",
    "    def update(self, value):\n",
    "        self.value = self.value * self.count + float(value)\n",
    "        self.count += 1\n",
    "        self.value /= self.count\n",
    "        return self.value\n",
    "\n",
    "\n",
    "class MovingAverage(AverageBase):\n",
    "    \"\"\"\n",
    "    An exponentially decaying moving average (EMA).\n",
    "    \"\"\"\n",
    "\n",
    "    def __init__(self, alpha=0.99):\n",
    "        super(MovingAverage, self).__init__(None)\n",
    "        self.alpha = alpha\n",
    "\n",
    "    def update(self, value):\n",
    "        if self.value is None:\n",
    "            self.value = float(value)\n",
    "        else:\n",
    "            self.value = self.alpha * self.value + (1 - self.alpha) * float(value)\n",
    "        return self.value\n",
    "\n",
    "\n",
    "def labels_to_class(pred_labels):\n",
    "    predictions = []\n",
    "    for i in range(pred_labels.shape[0]):\n",
    "        curr_labels = pred_labels[i, :].cpu().detach().numpy()\n",
    "        best_dist = sys.maxsize\n",
    "        best_index = -1\n",
    "        for j in range(predicates.shape[0]):\n",
    "            class_labels = predicates[j, :]\n",
    "            dist = get_euclidean_dist(curr_labels, class_labels)\n",
    "            if dist < best_dist and classes[j] not in train_classes:\n",
    "                best_index = j\n",
    "                best_dist = dist\n",
    "        predictions.append(classes[best_index])\n",
    "    return predictions\n",
    "\n",
    "\n",
    "def get_hamming_dist(curr_labels, class_labels):\n",
    "    return np.sum(curr_labels != class_labels)\n",
    "\n",
    "\n",
    "def get_cosine_dist(curr_labels, class_labels):\n",
    "    return (\n",
    "        np.sum(curr_labels * class_labels)\n",
    "        / np.sqrt(np.sum(curr_labels))\n",
    "        / np.sqrt(np.sum(class_labels))\n",
    "    )\n",
    "\n",
    "\n",
    "def get_euclidean_dist(curr_labels, class_labels):\n",
    "    return np.sqrt(np.sum((curr_labels - class_labels) ** 2))\n",
    "\n",
    "\n",
    "def save_checkpoint(optimizer, model, epoch, filename):\n",
    "    checkpoint_dict = {\n",
    "        \"optimizer\": optimizer.state_dict(),\n",
    "        \"model\": model.state_dict(),\n",
    "        \"epoch\": epoch,\n",
    "    }\n",
    "    torch.save(checkpoint_dict, filename)\n",
    "\n",
    "\n",
    "def load_checkpoint(optimizer, model, filename):\n",
    "    checkpoint_dict = torch.load(filename)\n",
    "    epoch = checkpoint_dict[\"epoch\"]\n",
    "    model.load_state_dict(checkpoint_dict[\"model\"])\n",
    "    if optimizer is not None:\n",
    "        optimizer.load_state_dict(checkpoint_dict[\"optimizer\"])\n",
    "    return epoch\n",
    "\n",
    "\n",
    "class ProgressMonitor(object):\n",
    "    \"\"\"\n",
    "    Custom IPython progress bar for training\n",
    "    \"\"\"\n",
    "\n",
    "    tmpl = \"\"\"\n",
    "        <p>Loss: {loss:0.4f}   {value} / {length}</p>\n",
    "        <progress value='{value}' max='{length}', style='width: 100%'>{value}</progress>\n",
    "    \"\"\"\n",
    "\n",
    "    def __init__(self, length):\n",
    "        self.length = length\n",
    "        self.count = 0\n",
    "        self.display = display(self.html(0, 0), display_id=True)\n",
    "\n",
    "    def html(self, count, loss):\n",
    "        return HTML(self.tmpl.format(length=self.length, value=count, loss=loss))\n",
    "\n",
    "    def update(self, count, loss):\n",
    "        self.count += count\n",
    "        self.display.update(self.html(self.count, loss))"
   ]
  },
  {
   "cell_type": "code",
   "execution_count": 29,
   "metadata": {},
   "outputs": [],
   "source": [
    "def save_checkpoint_extra_details(\n",
    "    epoch, train_losses, valid_losses, mean_acc, filename\n",
    "):\n",
    "    checkpoint_dict = {\n",
    "        \"epoch\": epoch,\n",
    "        \"train_losses\": train_losses,\n",
    "        \"valid_losses\": valid_losses,\n",
    "        \"mean_acc\": mean_acc,\n",
    "    }\n",
    "    torch.save(checkpoint_dict, filename)\n",
    "\n",
    "\n",
    "def load_checkpoint_extra_details(filename):\n",
    "    checkpoint_dict = torch.load(filename)\n",
    "    epoch = checkpoint_dict[\"epoch\"]\n",
    "    train_losses = checkpoint_dict[\"train_losses\"]\n",
    "    valid_losses = checkpoint_dict[\"valid_losses\"]\n",
    "    mean_acc = checkpoint_dict[\"mean_acc\"]\n",
    "    return epoch, train_losses, valid_losses, mean_acc"
   ]
  },
  {
   "cell_type": "code",
   "execution_count": 11,
   "metadata": {},
   "outputs": [
    {
     "name": "stderr",
     "output_type": "stream",
     "text": [
      "A subdirectory or file checkpoints already exists.\n"
     ]
    }
   ],
   "source": [
    "!mkdir checkpoints"
   ]
  },
  {
   "cell_type": "code",
   "execution_count": 27,
   "metadata": {},
   "outputs": [],
   "source": [
    "def train(model, optimizer, num_epochs=25, first_epoch=1):\n",
    "    criterion = nn.BCELoss()  # should be loss function defined above\n",
    "    train_losses = []\n",
    "    valid_losses = []\n",
    "    y_pred = []\n",
    "    total_steps = len(train_loader)\n",
    "    for epoch in range(first_epoch, first_epoch + num_epochs):\n",
    "        print(\"Epoch\", epoch)\n",
    "        progress = ProgressMonitor(length=len(train_dataset))\n",
    "        train_loss = MovingAverage()\n",
    "        model.train()\n",
    "        for i, (images, labels, indexes, predicates_mats) in enumerate(train_loader):\n",
    "            if images.shape[0] < 2:\n",
    "                break\n",
    "            images = images.to(device)\n",
    "            predicates_mats = predicates_mats.to(device).float()\n",
    "            outputs = model(images)\n",
    "            predicted_outputs = torch.sigmoid(outputs)  # should be softmax\n",
    "            loss = criterion(predicted_outputs, predicates_mats)\n",
    "            optimizer.zero_grad()\n",
    "            loss.backward()\n",
    "            optimizer.step()\n",
    "            train_loss.update(loss)\n",
    "            progress.update(images.shape[0], train_loss)\n",
    "        #             print(\n",
    "        #                 \"Epoch [{}/{}], Step [{}/{}], Batch Loss: {:.4f}\".format(\n",
    "        #                     epoch, num_epochs, i + 1, total_steps, loss.item()\n",
    "        #                 )\n",
    "        #             )\n",
    "\n",
    "        print(\"Training loss:\", train_loss)\n",
    "        train_losses.append(train_loss.value)\n",
    "\n",
    "        model.eval()\n",
    "        valid_loss = RunningAverage()\n",
    "        y_pred.clear()\n",
    "\n",
    "        pred_classes = []\n",
    "        truth_classes = []\n",
    "        mean_acc = 0.0\n",
    "        with torch.no_grad():\n",
    "            for i, (images, labels, indexes, predicates_mats) in enumerate(test_loader):\n",
    "                images = images.to(device)\n",
    "                predicates_mats = predicates_mats.to(device).float()\n",
    "                outputs = model(images)\n",
    "                predicted_outputs = torch.sigmoid(outputs)  # should be softmax\n",
    "                loss = criterion(predicted_outputs, predicates_mats)\n",
    "                valid_loss.update(loss)\n",
    "                curr_pred_classes = labels_to_class(predicted_outputs)\n",
    "                pred_classes.extend(curr_pred_classes)\n",
    "                curr_truth_classes = []\n",
    "                for index in labels:\n",
    "                    curr_truth_classes.append(classes[index])\n",
    "                truth_classes.extend(curr_truth_classes)\n",
    "        pred_classes = np.array(pred_classes)\n",
    "        truth_classes = np.array(truth_classes)\n",
    "        mean_acc = np.mean(pred_classes == truth_classes)\n",
    "        print(\"Validation loss:\", valid_loss)\n",
    "        valid_losses.append(valid_loss.value)\n",
    "        print(\"Validation accuracy: {:.4f}%\".format(mean_acc * 100))\n",
    "\n",
    "        checkpoint_filename = \"checkpoints/awa2-{:03d}.pkl\".format(epoch)\n",
    "        save_checkpoint(optimizer, model, epoch, checkpoint_filename)\n",
    "        checkpoint_filename = \"checkpoints/awa2-extra-{:03d}.pkl\".format(epoch)\n",
    "        save_checkpoint_extra_details(\n",
    "            epoch, train_losses, valid_losses, mean_acc, checkpoint_filename\n",
    "        )\n",
    "    return train_losses, valid_losses, y_pred"
   ]
  },
  {
   "cell_type": "code",
   "execution_count": 13,
   "metadata": {},
   "outputs": [
    {
     "name": "stdout",
     "output_type": "stream",
     "text": [
      "Epoch 1\n"
     ]
    },
    {
     "data": {
      "text/html": [
       "\n",
       "        <p>Loss: 0.4046   30336 / 30337</p>\n",
       "        <progress value='30336' max='30337', style='width: 100%'>30336</progress>\n",
       "    "
      ],
      "text/plain": [
       "<IPython.core.display.HTML object>"
      ]
     },
     "metadata": {},
     "output_type": "display_data"
    },
    {
     "name": "stdout",
     "output_type": "stream",
     "text": [
      "Training loss: 0.4046\n",
      "Validation loss: 0.5511\n",
      "Validation accuracy: 25.5261%\n",
      "Epoch 2\n"
     ]
    },
    {
     "data": {
      "text/html": [
       "\n",
       "        <p>Loss: 0.3235   30336 / 30337</p>\n",
       "        <progress value='30336' max='30337', style='width: 100%'>30336</progress>\n",
       "    "
      ],
      "text/plain": [
       "<IPython.core.display.HTML object>"
      ]
     },
     "metadata": {},
     "output_type": "display_data"
    },
    {
     "name": "stdout",
     "output_type": "stream",
     "text": [
      "Training loss: 0.3235\n",
      "Validation loss: 0.5273\n",
      "Validation accuracy: 31.6106%\n"
     ]
    }
   ],
   "source": [
    "optimizer = torch.optim.Adam(model.parameters(), lr=0.000025)\n",
    "train_losses, valid_losses, y_pred = train(model, optimizer, num_epochs=2)"
   ]
  },
  {
   "cell_type": "code",
   "execution_count": 14,
   "metadata": {},
   "outputs": [
    {
     "name": "stdout",
     "output_type": "stream",
     "text": [
      " Volume in drive F is New Volume\n",
      " Volume Serial Number is E67B-CFF0\n",
      "\n",
      " Directory of F:\\JupyterDefault\\PyTorch\\checkpoints\n",
      "\n",
      "04/09/2020  12:32 PM    <DIR>          .\n",
      "04/09/2020  12:32 PM    <DIR>          ..\n",
      "04/09/2020  11:54 AM        85,788,520 awa2-001.pkl\n",
      "04/09/2020  12:32 PM        85,788,520 awa2-002.pkl\n",
      "               2 File(s)    171,577,040 bytes\n",
      "               2 Dir(s)  240,845,008,896 bytes free\n"
     ]
    }
   ],
   "source": [
    "!dir checkpoints"
   ]
  },
  {
   "cell_type": "code",
   "execution_count": 28,
   "metadata": {},
   "outputs": [
    {
     "name": "stdout",
     "output_type": "stream",
     "text": [
      "Resuming training from epoch 3\n",
      "Epoch 3\n"
     ]
    },
    {
     "data": {
      "text/html": [
       "\n",
       "        <p>Loss: 0.2489   30336 / 30337</p>\n",
       "        <progress value='30336' max='30337', style='width: 100%'>30336</progress>\n",
       "    "
      ],
      "text/plain": [
       "<IPython.core.display.HTML object>"
      ]
     },
     "metadata": {},
     "output_type": "display_data"
    },
    {
     "name": "stdout",
     "output_type": "stream",
     "text": [
      "Training loss: 0.2489\n",
      "Validation loss: 0.5071\n",
      "Validation accuracy: 43.1353%\n"
     ]
    },
    {
     "ename": "NameError",
     "evalue": "name 'save_checkpoint_extra_details' is not defined",
     "output_type": "error",
     "traceback": [
      "\u001b[1;31m---------------------------------------------------------------------------\u001b[0m",
      "\u001b[1;31mNameError\u001b[0m                                 Traceback (most recent call last)",
      "\u001b[1;32m<ipython-input-28-f51e9cf924e2>\u001b[0m in \u001b[0;36m<module>\u001b[1;34m\u001b[0m\n\u001b[0;32m      1\u001b[0m \u001b[0mepoch\u001b[0m \u001b[1;33m=\u001b[0m \u001b[0mload_checkpoint\u001b[0m\u001b[1;33m(\u001b[0m\u001b[0moptimizer\u001b[0m\u001b[1;33m,\u001b[0m \u001b[0mmodel\u001b[0m\u001b[1;33m,\u001b[0m \u001b[1;34m'checkpoints/awa2-002.pkl'\u001b[0m\u001b[1;33m)\u001b[0m\u001b[1;33m\u001b[0m\u001b[1;33m\u001b[0m\u001b[0m\n\u001b[0;32m      2\u001b[0m \u001b[0mprint\u001b[0m\u001b[1;33m(\u001b[0m\u001b[1;34m'Resuming training from epoch'\u001b[0m\u001b[1;33m,\u001b[0m \u001b[0mepoch\u001b[0m\u001b[1;33m+\u001b[0m\u001b[1;36m1\u001b[0m\u001b[1;33m)\u001b[0m\u001b[1;33m\u001b[0m\u001b[1;33m\u001b[0m\u001b[0m\n\u001b[1;32m----> 3\u001b[1;33m \u001b[0mtrain_losses\u001b[0m\u001b[1;33m,\u001b[0m \u001b[0mvalid_losses\u001b[0m\u001b[1;33m,\u001b[0m \u001b[0my_pred\u001b[0m \u001b[1;33m=\u001b[0m \u001b[0mtrain\u001b[0m\u001b[1;33m(\u001b[0m\u001b[0mmodel\u001b[0m\u001b[1;33m,\u001b[0m \u001b[0moptimizer\u001b[0m\u001b[1;33m,\u001b[0m \u001b[0mnum_epochs\u001b[0m\u001b[1;33m=\u001b[0m\u001b[1;36m1\u001b[0m\u001b[1;33m,\u001b[0m \u001b[0mfirst_epoch\u001b[0m\u001b[1;33m=\u001b[0m\u001b[0mepoch\u001b[0m\u001b[1;33m+\u001b[0m\u001b[1;36m1\u001b[0m\u001b[1;33m)\u001b[0m\u001b[1;33m\u001b[0m\u001b[1;33m\u001b[0m\u001b[0m\n\u001b[0m",
      "\u001b[1;32m<ipython-input-27-f2328313703b>\u001b[0m in \u001b[0;36mtrain\u001b[1;34m(model, optimizer, num_epochs, first_epoch)\u001b[0m\n\u001b[0;32m     63\u001b[0m         \u001b[0msave_checkpoint\u001b[0m\u001b[1;33m(\u001b[0m\u001b[0moptimizer\u001b[0m\u001b[1;33m,\u001b[0m \u001b[0mmodel\u001b[0m\u001b[1;33m,\u001b[0m \u001b[0mepoch\u001b[0m\u001b[1;33m,\u001b[0m \u001b[0mcheckpoint_filename\u001b[0m\u001b[1;33m)\u001b[0m\u001b[1;33m\u001b[0m\u001b[1;33m\u001b[0m\u001b[0m\n\u001b[0;32m     64\u001b[0m         \u001b[0mcheckpoint_filename\u001b[0m \u001b[1;33m=\u001b[0m \u001b[1;34m\"checkpoints/awa2-extra-{:03d}.pkl\"\u001b[0m\u001b[1;33m.\u001b[0m\u001b[0mformat\u001b[0m\u001b[1;33m(\u001b[0m\u001b[0mepoch\u001b[0m\u001b[1;33m)\u001b[0m\u001b[1;33m\u001b[0m\u001b[1;33m\u001b[0m\u001b[0m\n\u001b[1;32m---> 65\u001b[1;33m         \u001b[0msave_checkpoint_extra_details\u001b[0m\u001b[1;33m(\u001b[0m\u001b[0mepoch\u001b[0m\u001b[1;33m,\u001b[0m \u001b[0mtrain_losses\u001b[0m\u001b[1;33m,\u001b[0m \u001b[0mvalid_losses\u001b[0m\u001b[1;33m,\u001b[0m \u001b[0mmean_acc\u001b[0m\u001b[1;33m,\u001b[0m \u001b[0mcheckpoint_filename\u001b[0m\u001b[1;33m)\u001b[0m\u001b[1;33m\u001b[0m\u001b[1;33m\u001b[0m\u001b[0m\n\u001b[0m\u001b[0;32m     66\u001b[0m     \u001b[1;32mreturn\u001b[0m \u001b[0mtrain_losses\u001b[0m\u001b[1;33m,\u001b[0m \u001b[0mvalid_losses\u001b[0m\u001b[1;33m,\u001b[0m \u001b[0my_pred\u001b[0m\u001b[1;33m\u001b[0m\u001b[1;33m\u001b[0m\u001b[0m\n",
      "\u001b[1;31mNameError\u001b[0m: name 'save_checkpoint_extra_details' is not defined"
     ]
    }
   ],
   "source": [
    "epoch = load_checkpoint(optimizer, model, \"checkpoints/awa2-002.pkl\")\n",
    "print(\"Resuming training from epoch\", epoch + 1)\n",
    "train_losses, valid_losses, y_pred = train(\n",
    "    model, optimizer, num_epochs=1, first_epoch=epoch + 1\n",
    ")"
   ]
  },
  {
   "cell_type": "code",
   "execution_count": 33,
   "metadata": {},
   "outputs": [
    {
     "data": {
      "image/png": "[encoded data removed]",
      "text/plain": [
       "<Figure size 720x432 with 1 Axes>"
      ]
     },
     "metadata": {},
     "output_type": "display_data"
    }
   ],
   "source": [
    "epochs = range(1, len(train_losses) + 1)\n",
    "\n",
    "plt.figure(figsize=(10, 6))\n",
    "plt.plot(epochs, train_losses, \"-o\", label=\"Training loss\")\n",
    "plt.plot(epochs, valid_losses, \"-o\", label=\"Validation loss\")\n",
    "plt.legend()\n",
    "plt.title(\"Learning curves\")\n",
    "plt.xlabel(\"Epoch\")\n",
    "plt.ylabel(\"Loss\")\n",
    "plt.xticks(epochs)\n",
    "plt.show()"
   ]
  },
  {
   "cell_type": "code",
   "execution_count": 32,
   "metadata": {},
   "outputs": [
    {
     "ename": "AttributeError",
     "evalue": "'bool' object has no attribute 'int'",
     "output_type": "error",
     "traceback": [
      "\u001b[1;31m---------------------------------------------------------------------------\u001b[0m",
      "\u001b[1;31mAttributeError\u001b[0m                            Traceback (most recent call last)",
      "\u001b[1;32m<ipython-input-32-d93d50e51107>\u001b[0m in \u001b[0;36m<module>\u001b[1;34m\u001b[0m\n\u001b[1;32m----> 1\u001b[1;33m \u001b[0mnum_errors\u001b[0m \u001b[1;33m=\u001b[0m \u001b[0mtorch\u001b[0m\u001b[1;33m.\u001b[0m\u001b[0msum\u001b[0m\u001b[1;33m(\u001b[0m\u001b[1;33m(\u001b[0m\u001b[0my_pred\u001b[0m \u001b[1;33m!=\u001b[0m \u001b[0mtest_dataset\u001b[0m\u001b[1;33m.\u001b[0m\u001b[0mimage_class_index\u001b[0m\u001b[1;33m)\u001b[0m\u001b[1;33m.\u001b[0m\u001b[0mint\u001b[0m\u001b[1;33m(\u001b[0m\u001b[1;33m)\u001b[0m\u001b[1;33m)\u001b[0m\u001b[1;33m\u001b[0m\u001b[1;33m\u001b[0m\u001b[0m\n\u001b[0m\u001b[0;32m      2\u001b[0m \u001b[0mprint\u001b[0m\u001b[1;33m(\u001b[0m\u001b[1;34m\"Validation errors {} (out of {})\"\u001b[0m\u001b[1;33m.\u001b[0m\u001b[0mformat\u001b[0m\u001b[1;33m(\u001b[0m\u001b[0mint\u001b[0m\u001b[1;33m(\u001b[0m\u001b[0mnum_errors\u001b[0m\u001b[1;33m)\u001b[0m\u001b[1;33m,\u001b[0m \u001b[0mlen\u001b[0m\u001b[1;33m(\u001b[0m\u001b[0mtest_dataset\u001b[0m\u001b[1;33m)\u001b[0m\u001b[1;33m)\u001b[0m\u001b[1;33m)\u001b[0m\u001b[1;33m\u001b[0m\u001b[1;33m\u001b[0m\u001b[0m\n",
      "\u001b[1;31mAttributeError\u001b[0m: 'bool' object has no attribute 'int'"
     ]
    }
   ],
   "source": [
    "num_errors = torch.sum((y_pred != test_dataset.image_class_index).float())\n",
    "print(\"Validation errors {} (out of {})\".format(int(num_errors), len(test_dataset)))"
   ]
  },
  {
   "cell_type": "code",
   "execution_count": null,
   "metadata": {},
   "outputs": [],
   "source": [
    "def predict(model, dataloader):\n",
    "    # Toggle flag\n",
    "    model.eval()\n",
    "\n",
    "    pred_classes = []\n",
    "    #     output_img_names = []\n",
    "    with torch.no_grad():\n",
    "        for i, (images, labels, indexes, predicates_mats) in enumerate(dataloader):\n",
    "            images = images.to(device)\n",
    "            outputs = model(images)\n",
    "            sigmoid_outputs = torch.sigmoid(outputs)\n",
    "            pred_labels = sigmoid_outputs  # (sigmoid_outputs > 0.5).int()\n",
    "            curr_pred_classes = labels_to_class(pred_labels)\n",
    "            pred_classes.extend(curr_pred_classes)\n",
    "    #             output_img_names.extend(img_names)\n",
    "\n",
    "    return pred_classes\n",
    "\n",
    "\n",
    "predict(model, test_loader)"
   ]
  }
 ],
 "metadata": {
  "kernelspec": {
   "display_name": "Python [conda env:pytorch_env]",
   "language": "python",
   "name": "conda-env-pytorch_env-py"
  },
  "language_info": {
   "codemirror_mode": {
    "name": "ipython",
    "version": 3
   },
   "file_extension": ".py",
   "mimetype": "text/x-python",
   "name": "python",
   "nbconvert_exporter": "python",
   "pygments_lexer": "ipython3",
   "version": "3.8.2"
  }
 },
 "nbformat": 4,
 "nbformat_minor": 4
}
